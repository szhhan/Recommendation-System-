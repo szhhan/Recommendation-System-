{
 "cells": [
  {
   "cell_type": "code",
   "execution_count": 89,
   "metadata": {},
   "outputs": [
    {
     "name": "stderr",
     "output_type": "stream",
     "text": [
      "/Users/zili/anaconda3/lib/python3.6/site-packages/h5py/__init__.py:36: FutureWarning: Conversion of the second argument of issubdtype from `float` to `np.floating` is deprecated. In future, it will be treated as `np.float64 == np.dtype(float).type`.\n",
      "  from ._conv import register_converters as _register_converters\n"
     ]
    }
   ],
   "source": [
    "from scipy.sparse.linalg import svds\n",
    "from scipy.sparse import csc_matrix\n",
    "import pandas as pd\n",
    "import numpy as np\n",
    "import tensorflow as tf"
   ]
  },
  {
   "cell_type": "markdown",
   "metadata": {},
   "source": [
    "# Step 1: Process rating data"
   ]
  },
  {
   "cell_type": "markdown",
   "metadata": {},
   "source": [
    "## 1.1 Read raw data"
   ]
  },
  {
   "cell_type": "code",
   "execution_count": 44,
   "metadata": {},
   "outputs": [],
   "source": [
    "df = pd.read_csv(\"data/rating.csv\")[['userId','tmdbId','rating']]\n",
    "\n",
    "df.head()"
   ]
  },
  {
   "cell_type": "code",
   "execution_count": 46,
   "metadata": {},
   "outputs": [
    {
     "name": "stdout",
     "output_type": "stream",
     "text": [
      "9715\n"
     ]
    }
   ],
   "source": [
    "print(len(df.tmdbId.unique()))"
   ]
  },
  {
   "cell_type": "code",
   "execution_count": 60,
   "metadata": {},
   "outputs": [
    {
     "name": "stdout",
     "output_type": "stream",
     "text": [
      "610\n"
     ]
    }
   ],
   "source": [
    "print(len(df.userId.unique()))"
   ]
  },
  {
   "cell_type": "code",
   "execution_count": 64,
   "metadata": {},
   "outputs": [
    {
     "name": "stdout",
     "output_type": "stream",
     "text": [
      "610\n"
     ]
    }
   ],
   "source": [
    "print(max(df.userId))"
   ]
  },
  {
   "cell_type": "markdown",
   "metadata": {},
   "source": [
    "## 1.2 Construct rating matrix"
   ]
  },
  {
   "cell_type": "code",
   "execution_count": 66,
   "metadata": {},
   "outputs": [
    {
     "name": "stdout",
     "output_type": "stream",
     "text": [
      "Number of unique movie : 9715\n"
     ]
    }
   ],
   "source": [
    "id_2_tmdb = {i:j for i,j in enumerate(df.tmdbId.unique())}\n",
    "tmdb_2_id = {j:i for i,j in id_2_tmdb.items()}\n",
    "print(f\"Number of unique movie : {len(id_2_tmdb)}\")"
   ]
  },
  {
   "cell_type": "code",
   "execution_count": 68,
   "metadata": {},
   "outputs": [
    {
     "name": "stdout",
     "output_type": "stream",
     "text": [
      "Number of unique users : 610\n"
     ]
    }
   ],
   "source": [
    "id_2_user = {i:j for i,j in enumerate(df.userId.unique())}\n",
    "user_2_id = {j:i for i,j in id_2_user.items()}\n",
    "print(f\"Number of unique users : {len(id_2_user)}\")"
   ]
  },
  {
   "cell_type": "code",
   "execution_count": 124,
   "metadata": {},
   "outputs": [],
   "source": [
    "rating_matrix = np.zeros([len(id_2_user),len(id_2_tmdb)])"
   ]
  },
  {
   "cell_type": "code",
   "execution_count": 125,
   "metadata": {},
   "outputs": [
    {
     "data": {
      "text/plain": [
       "(610, 9715)"
      ]
     },
     "execution_count": 125,
     "metadata": {},
     "output_type": "execute_result"
    }
   ],
   "source": [
    "rating_matrix.shape"
   ]
  },
  {
   "cell_type": "code",
   "execution_count": 72,
   "metadata": {},
   "outputs": [
    {
     "data": {
      "text/html": [
       "<div>\n",
       "<style scoped>\n",
       "    .dataframe tbody tr th:only-of-type {\n",
       "        vertical-align: middle;\n",
       "    }\n",
       "\n",
       "    .dataframe tbody tr th {\n",
       "        vertical-align: top;\n",
       "    }\n",
       "\n",
       "    .dataframe thead th {\n",
       "        text-align: right;\n",
       "    }\n",
       "</style>\n",
       "<table border=\"1\" class=\"dataframe\">\n",
       "  <thead>\n",
       "    <tr style=\"text-align: right;\">\n",
       "      <th></th>\n",
       "      <th>userId</th>\n",
       "      <th>tmdbId</th>\n",
       "      <th>rating</th>\n",
       "    </tr>\n",
       "  </thead>\n",
       "  <tbody>\n",
       "    <tr>\n",
       "      <th>0</th>\n",
       "      <td>1</td>\n",
       "      <td>862</td>\n",
       "      <td>4.0</td>\n",
       "    </tr>\n",
       "    <tr>\n",
       "      <th>1</th>\n",
       "      <td>5</td>\n",
       "      <td>862</td>\n",
       "      <td>4.0</td>\n",
       "    </tr>\n",
       "    <tr>\n",
       "      <th>2</th>\n",
       "      <td>7</td>\n",
       "      <td>862</td>\n",
       "      <td>4.5</td>\n",
       "    </tr>\n",
       "    <tr>\n",
       "      <th>3</th>\n",
       "      <td>15</td>\n",
       "      <td>862</td>\n",
       "      <td>2.5</td>\n",
       "    </tr>\n",
       "    <tr>\n",
       "      <th>4</th>\n",
       "      <td>17</td>\n",
       "      <td>862</td>\n",
       "      <td>4.5</td>\n",
       "    </tr>\n",
       "    <tr>\n",
       "      <th>5</th>\n",
       "      <td>18</td>\n",
       "      <td>862</td>\n",
       "      <td>3.5</td>\n",
       "    </tr>\n",
       "    <tr>\n",
       "      <th>6</th>\n",
       "      <td>19</td>\n",
       "      <td>862</td>\n",
       "      <td>4.0</td>\n",
       "    </tr>\n",
       "    <tr>\n",
       "      <th>7</th>\n",
       "      <td>21</td>\n",
       "      <td>862</td>\n",
       "      <td>3.5</td>\n",
       "    </tr>\n",
       "    <tr>\n",
       "      <th>8</th>\n",
       "      <td>27</td>\n",
       "      <td>862</td>\n",
       "      <td>3.0</td>\n",
       "    </tr>\n",
       "    <tr>\n",
       "      <th>9</th>\n",
       "      <td>31</td>\n",
       "      <td>862</td>\n",
       "      <td>5.0</td>\n",
       "    </tr>\n",
       "  </tbody>\n",
       "</table>\n",
       "</div>"
      ],
      "text/plain": [
       "   userId  tmdbId  rating\n",
       "0       1     862     4.0\n",
       "1       5     862     4.0\n",
       "2       7     862     4.5\n",
       "3      15     862     2.5\n",
       "4      17     862     4.5\n",
       "5      18     862     3.5\n",
       "6      19     862     4.0\n",
       "7      21     862     3.5\n",
       "8      27     862     3.0\n",
       "9      31     862     5.0"
      ]
     },
     "execution_count": 72,
     "metadata": {},
     "output_type": "execute_result"
    }
   ],
   "source": [
    "df[:10]."
   ]
  },
  {
   "cell_type": "code",
   "execution_count": 78,
   "metadata": {},
   "outputs": [],
   "source": [
    "for row in df.itertuples():\n",
    "    rawUser, rawMovie, rating = row[1], row[2], row[3]\n",
    "    user, movie = user_2_id[rawUser], tmdb_2_id[rawMovie]\n",
    "    \n",
    "    rating_matrix[user][movie] = rating"
   ]
  },
  {
   "cell_type": "markdown",
   "metadata": {},
   "source": [
    "# Step 2: SVD modeling"
   ]
  },
  {
   "cell_type": "markdown",
   "metadata": {},
   "source": [
    "## 2.1 SVD from Scipy"
   ]
  },
  {
   "cell_type": "code",
   "execution_count": 84,
   "metadata": {},
   "outputs": [],
   "source": [
    "num_features = 10\n",
    "u, s, vt = svds(rating_matrix, k=num_features) # k is the number of factors"
   ]
  },
  {
   "cell_type": "code",
   "execution_count": 111,
   "metadata": {},
   "outputs": [],
   "source": [
    "def svd_scipy(rating_matrix,num_features=10):\n",
    "    u, s, vt = svds(rating_matrix, k=num_features) # k is the number of factors\n",
    "    return u,s,vt.transpose()"
   ]
  },
  {
   "cell_type": "code",
   "execution_count": 112,
   "metadata": {},
   "outputs": [],
   "source": [
    "u,s,v = svd_scipy(rating_matrix,10)"
   ]
  },
  {
   "cell_type": "code",
   "execution_count": 114,
   "metadata": {},
   "outputs": [
    {
     "name": "stdout",
     "output_type": "stream",
     "text": [
      "Shape of u: (610, 10), shape of s: (10,), shape of v: (9715, 10) \n"
     ]
    }
   ],
   "source": [
    "print(f\"Shape of u: {u.shape}, shape of s: {s.shape}, shape of v: {v.shape} \")"
   ]
  },
  {
   "cell_type": "markdown",
   "metadata": {},
   "source": [
    "## 2.2 SVD from Tensorflow"
   ]
  },
  {
   "cell_type": "code",
   "execution_count": 104,
   "metadata": {},
   "outputs": [],
   "source": [
    "tf.reset_default_graph()\n",
    "nb_users, nb_products = len(id_2_user), len(id_2_tmdb)\n",
    "with tf.Session() as sess:\n",
    "    rating_matrix_tf = tf.placeholder(tf.float32, shape=(nb_users, nb_products))\n",
    "    S, U, V = tf.svd(rating_matrix_tf)\n",
    "    \n",
    "    s,u,v = sess.run([S,U,V],feed_dict={rating_matrix_tf:rating_matrix})"
   ]
  },
  {
   "cell_type": "code",
   "execution_count": 107,
   "metadata": {},
   "outputs": [],
   "source": [
    "def svd_tf(rating_matrix):\n",
    "    tf.reset_default_graph()\n",
    "    nb_users, nb_products = rating_matrix.shape\n",
    "    with tf.Session() as sess:\n",
    "        rating_matrix_tf = tf.placeholder(tf.float32, shape=(nb_users, nb_products))\n",
    "        S, U, V = tf.svd(rating_matrix_tf)\n",
    "\n",
    "        s,u,v = sess.run([S,U,V],feed_dict={rating_matrix_tf:rating_matrix})\n",
    "    return s,u,v"
   ]
  },
  {
   "cell_type": "code",
   "execution_count": 108,
   "metadata": {},
   "outputs": [],
   "source": [
    "s,u,v = svd_tf(rating_matrix)"
   ]
  },
  {
   "cell_type": "code",
   "execution_count": 109,
   "metadata": {},
   "outputs": [
    {
     "name": "stdout",
     "output_type": "stream",
     "text": [
      "Shape of u: (610, 610), shape of s: (610,), shape of v: (9715, 610) \n"
     ]
    }
   ],
   "source": [
    "print(f\"Shape of u: {u.shape}, shape of s: {s.shape}, shape of v: {v.shape} \")"
   ]
  },
  {
   "cell_type": "markdown",
   "metadata": {},
   "source": [
    "## 2.3 Calculate rating score"
   ]
  },
  {
   "cell_type": "code",
   "execution_count": 121,
   "metadata": {},
   "outputs": [
    {
     "data": {
      "text/plain": [
       "(610, 9715)"
      ]
     },
     "execution_count": 121,
     "metadata": {},
     "output_type": "execute_result"
    }
   ],
   "source": [
    "\"\"\"Reverse of svd decompose\"\"\"\n",
    "pred_rating_matrix = u@np.diag(s)@v.transpose()\n",
    "\n",
    "pred_rating_matrix.shape"
   ]
  },
  {
   "cell_type": "code",
   "execution_count": 123,
   "metadata": {},
   "outputs": [
    {
     "data": {
      "text/plain": [
       "array([ 2.86156093,  0.97620424,  1.70280382, ..., -0.02350501,\n",
       "       -0.02742251, -0.02742251])"
      ]
     },
     "execution_count": 123,
     "metadata": {},
     "output_type": "execute_result"
    }
   ],
   "source": [
    "pred_rating_matrix[0,:]"
   ]
  },
  {
   "cell_type": "code",
   "execution_count": 122,
   "metadata": {},
   "outputs": [
    {
     "data": {
      "text/plain": [
       "array([1, 2, 0])"
      ]
     },
     "execution_count": 122,
     "metadata": {},
     "output_type": "execute_result"
    }
   ],
   "source": [
    "np.argsort(pred_rating_matrix[0,:][-3:])"
   ]
  },
  {
   "cell_type": "markdown",
   "metadata": {},
   "source": [
    "# Step 3 Modulize"
   ]
  },
  {
   "cell_type": "code",
   "execution_count": 1,
   "metadata": {},
   "outputs": [
    {
     "name": "stderr",
     "output_type": "stream",
     "text": [
      "/Users/zili/anaconda3/lib/python3.6/site-packages/h5py/__init__.py:36: FutureWarning: Conversion of the second argument of issubdtype from `float` to `np.floating` is deprecated. In future, it will be treated as `np.float64 == np.dtype(float).type`.\n",
      "  from ._conv import register_converters as _register_converters\n"
     ]
    }
   ],
   "source": [
    "from scipy.sparse.linalg import svds\n",
    "from scipy.sparse import csc_matrix\n",
    "import pandas as pd\n",
    "import numpy as np\n",
    "import tensorflow as tf\n",
    "\n",
    "class svd_extractor:\n",
    "    def build_rating_matrix(self,df,userCol=\"userId\",productCol=\"tmdbId\",ratingCol=\"rating\"):\n",
    "        self.id_2_product = {i:j for i,j in enumerate(df[productCol].unique())}\n",
    "        self.product_2_id = {j:i for i,j in self.id_2_product.items()}\n",
    "        \n",
    "        self.id_2_user = {i:j for i,j in enumerate(df[userCol].unique())}\n",
    "        self.user_2_id = {j:i for i,j in self.id_2_user.items()}\n",
    "\n",
    "        self.rating_matrix = np.zeros([len(self.id_2_user),len(self.id_2_product)])\n",
    "        \n",
    "        for row in df.itertuples():\n",
    "            rawUser, rawProduct, rating = row[1], row[2], row[3]\n",
    "            user, product = self.user_2_id[rawUser], self.product_2_id[rawProduct]\n",
    "\n",
    "            self.rating_matrix[user][product] = rating\n",
    "        return self.rating_matrix\n",
    "    \n",
    "\n",
    "    def svd_scipy(self,rating_matrix,num_features=10):\n",
    "        u, s, vt = svds(rating_matrix, k=num_features) # k is the number of factors\n",
    "        return u,s,vt.transpose()\n",
    "    \n",
    "        \n",
    "    def svd_tf(self,rating_matrix):\n",
    "        tf.reset_default_graph()\n",
    "        nb_users, nb_products = rating_matrix.shape\n",
    "        with tf.Session() as sess:\n",
    "            rating_matrix_tf = tf.placeholder(tf.float32, shape=(nb_users, nb_products))\n",
    "            S, U, V = tf.svd(rating_matrix_tf)\n",
    "\n",
    "            s,u,v = sess.run([S,U,V],feed_dict={rating_matrix_tf:rating_matrix})\n",
    "        return s,u,v    \n"
   ]
  },
  {
   "cell_type": "code",
   "execution_count": 2,
   "metadata": {},
   "outputs": [],
   "source": [
    "myExtractor = svd_extractor()"
   ]
  },
  {
   "cell_type": "code",
   "execution_count": 130,
   "metadata": {},
   "outputs": [],
   "source": [
    "rating_matrix = myExtractor.build_rating_matrix(df_rating=df,productCol=\"tmdbId\",userCol=\"userId\",ratingCol=\"rating\")"
   ]
  },
  {
   "cell_type": "code",
   "execution_count": 132,
   "metadata": {},
   "outputs": [],
   "source": [
    "s,u,v = myExtractor.svd_scipy(rating_matrix,num_features=10)"
   ]
  },
  {
   "cell_type": "code",
   "execution_count": 133,
   "metadata": {},
   "outputs": [],
   "source": [
    "s,u,v = myExtractor.svd_tf(rating_matrix)"
   ]
  }
 ],
 "metadata": {
  "kernelspec": {
   "display_name": "Python 3",
   "language": "python",
   "name": "python3"
  },
  "language_info": {
   "codemirror_mode": {
    "name": "ipython",
    "version": 3
   },
   "file_extension": ".py",
   "mimetype": "text/x-python",
   "name": "python",
   "nbconvert_exporter": "python",
   "pygments_lexer": "ipython3",
   "version": "3.6.5"
  }
 },
 "nbformat": 4,
 "nbformat_minor": 2
}
