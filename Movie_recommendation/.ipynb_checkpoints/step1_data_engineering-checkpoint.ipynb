{
 "cells": [
  {
   "cell_type": "code",
   "execution_count": 25,
   "metadata": {},
   "outputs": [],
   "source": [
    "import sys, os\n",
    "import urllib.request\n",
    "import pandas as pd\n",
    "import numpy as np\n",
    "import tmdbsimple as tmdb\n",
    "from IPython.display import display, HTML, Image\n"
   ]
  },
  {
   "cell_type": "markdown",
   "metadata": {},
   "source": [
    "# Step 1: Download rating data"
   ]
  },
  {
   "cell_type": "markdown",
   "metadata": {},
   "source": [
    "## 1.1 Download rating data"
   ]
  },
  {
   "cell_type": "code",
   "execution_count": 2,
   "metadata": {},
   "outputs": [],
   "source": [
    "if \"data\" not in os.listdir():\n",
    "    os.mkdir(\"data\")\n",
    "    os.mkdir(\"data/posters\")\n",
    "    print(\"Create new folder to save data\")"
   ]
  },
  {
   "cell_type": "code",
   "execution_count": 3,
   "metadata": {},
   "outputs": [],
   "source": [
    "\"\"\"movie rating data: Only run it one time\"\"\" \n",
    "ratingDataUrl = \"http://files.grouplens.org/datasets/movielens/ml-latest-small.zip\""
   ]
  },
  {
   "cell_type": "code",
   "execution_count": 4,
   "metadata": {},
   "outputs": [
    {
     "data": {
      "text/plain": [
       "['.DS_Store', 'ml-latest-small.zip', 'ml-latest-small', 'poster']"
      ]
     },
     "execution_count": 4,
     "metadata": {},
     "output_type": "execute_result"
    }
   ],
   "source": [
    "os.listdir(\"data\")"
   ]
  },
  {
   "cell_type": "code",
   "execution_count": 5,
   "metadata": {},
   "outputs": [],
   "source": [
    "if \"ml-latest-small.zip\" not in os.listdir(\"data\"):\n",
    "    urllib.request.urlretrieve(ratingDataUrl,\"data/ml-latest-small.zip\")\n",
    "    os.system(\"unzip -a -n data/ml-latest-small.zip -d data/\")"
   ]
  },
  {
   "cell_type": "markdown",
   "metadata": {},
   "source": [
    "## 1.2 Read rating data"
   ]
  },
  {
   "cell_type": "code",
   "execution_count": 6,
   "metadata": {},
   "outputs": [],
   "source": [
    "rating_df = pd.read_csv('data/ml-latest-small/ratings.csv')\n",
    "linkes_df = pd.read_csv('data/ml-latest-small/links.csv')"
   ]
  },
  {
   "cell_type": "code",
   "execution_count": 7,
   "metadata": {},
   "outputs": [
    {
     "data": {
      "text/html": [
       "<div>\n",
       "<style scoped>\n",
       "    .dataframe tbody tr th:only-of-type {\n",
       "        vertical-align: middle;\n",
       "    }\n",
       "\n",
       "    .dataframe tbody tr th {\n",
       "        vertical-align: top;\n",
       "    }\n",
       "\n",
       "    .dataframe thead th {\n",
       "        text-align: right;\n",
       "    }\n",
       "</style>\n",
       "<table border=\"1\" class=\"dataframe\">\n",
       "  <thead>\n",
       "    <tr style=\"text-align: right;\">\n",
       "      <th></th>\n",
       "      <th>userId</th>\n",
       "      <th>movieId</th>\n",
       "      <th>rating</th>\n",
       "      <th>timestamp</th>\n",
       "    </tr>\n",
       "  </thead>\n",
       "  <tbody>\n",
       "    <tr>\n",
       "      <th>0</th>\n",
       "      <td>1</td>\n",
       "      <td>1</td>\n",
       "      <td>4.0</td>\n",
       "      <td>964982703</td>\n",
       "    </tr>\n",
       "    <tr>\n",
       "      <th>1</th>\n",
       "      <td>1</td>\n",
       "      <td>3</td>\n",
       "      <td>4.0</td>\n",
       "      <td>964981247</td>\n",
       "    </tr>\n",
       "    <tr>\n",
       "      <th>2</th>\n",
       "      <td>1</td>\n",
       "      <td>6</td>\n",
       "      <td>4.0</td>\n",
       "      <td>964982224</td>\n",
       "    </tr>\n",
       "    <tr>\n",
       "      <th>3</th>\n",
       "      <td>1</td>\n",
       "      <td>47</td>\n",
       "      <td>5.0</td>\n",
       "      <td>964983815</td>\n",
       "    </tr>\n",
       "    <tr>\n",
       "      <th>4</th>\n",
       "      <td>1</td>\n",
       "      <td>50</td>\n",
       "      <td>5.0</td>\n",
       "      <td>964982931</td>\n",
       "    </tr>\n",
       "  </tbody>\n",
       "</table>\n",
       "</div>"
      ],
      "text/plain": [
       "   userId  movieId  rating  timestamp\n",
       "0       1        1     4.0  964982703\n",
       "1       1        3     4.0  964981247\n",
       "2       1        6     4.0  964982224\n",
       "3       1       47     5.0  964983815\n",
       "4       1       50     5.0  964982931"
      ]
     },
     "execution_count": 7,
     "metadata": {},
     "output_type": "execute_result"
    }
   ],
   "source": [
    "rating_df.head()"
   ]
  },
  {
   "cell_type": "code",
   "execution_count": 8,
   "metadata": {},
   "outputs": [
    {
     "data": {
      "text/html": [
       "<div>\n",
       "<style scoped>\n",
       "    .dataframe tbody tr th:only-of-type {\n",
       "        vertical-align: middle;\n",
       "    }\n",
       "\n",
       "    .dataframe tbody tr th {\n",
       "        vertical-align: top;\n",
       "    }\n",
       "\n",
       "    .dataframe thead th {\n",
       "        text-align: right;\n",
       "    }\n",
       "</style>\n",
       "<table border=\"1\" class=\"dataframe\">\n",
       "  <thead>\n",
       "    <tr style=\"text-align: right;\">\n",
       "      <th></th>\n",
       "      <th>movieId</th>\n",
       "      <th>imdbId</th>\n",
       "      <th>tmdbId</th>\n",
       "    </tr>\n",
       "  </thead>\n",
       "  <tbody>\n",
       "    <tr>\n",
       "      <th>0</th>\n",
       "      <td>1</td>\n",
       "      <td>114709</td>\n",
       "      <td>862.0</td>\n",
       "    </tr>\n",
       "    <tr>\n",
       "      <th>1</th>\n",
       "      <td>2</td>\n",
       "      <td>113497</td>\n",
       "      <td>8844.0</td>\n",
       "    </tr>\n",
       "    <tr>\n",
       "      <th>2</th>\n",
       "      <td>3</td>\n",
       "      <td>113228</td>\n",
       "      <td>15602.0</td>\n",
       "    </tr>\n",
       "    <tr>\n",
       "      <th>3</th>\n",
       "      <td>4</td>\n",
       "      <td>114885</td>\n",
       "      <td>31357.0</td>\n",
       "    </tr>\n",
       "    <tr>\n",
       "      <th>4</th>\n",
       "      <td>5</td>\n",
       "      <td>113041</td>\n",
       "      <td>11862.0</td>\n",
       "    </tr>\n",
       "  </tbody>\n",
       "</table>\n",
       "</div>"
      ],
      "text/plain": [
       "   movieId  imdbId   tmdbId\n",
       "0        1  114709    862.0\n",
       "1        2  113497   8844.0\n",
       "2        3  113228  15602.0\n",
       "3        4  114885  31357.0\n",
       "4        5  113041  11862.0"
      ]
     },
     "execution_count": 8,
     "metadata": {},
     "output_type": "execute_result"
    }
   ],
   "source": [
    "linkes_df.head()"
   ]
  },
  {
   "cell_type": "code",
   "execution_count": 9,
   "metadata": {},
   "outputs": [
    {
     "name": "stdout",
     "output_type": "stream",
     "text": [
      "   userId  movieId  rating   timestamp  imdbId  tmdbId\n",
      "0       1        1     4.0   964982703  114709     862\n",
      "1       5        1     4.0   847434962  114709     862\n",
      "2       7        1     4.5  1106635946  114709     862\n",
      "3      15        1     2.5  1510577970  114709     862\n",
      "4      17        1     4.5  1305696483  114709     862\n",
      "(100823, 6)\n"
     ]
    }
   ],
   "source": [
    "df_merged = pd.merge(rating_df,linkes_df,on=['movieId'])\n",
    "df_merged.dropna(how=\"any\",inplace=True)\n",
    "df_merged[['tmdbId']] = df_merged[['tmdbId']].astype(int)\n",
    "\n",
    "# df_merged['tmdbId'] = [int(x) for x in df_merged.tmdbId]\n",
    "print(df_merged.head())\n",
    "print(df_merged.shape)"
   ]
  },
  {
   "cell_type": "code",
   "execution_count": 31,
   "metadata": {},
   "outputs": [],
   "source": [
    "df_merged.to_csv('data/rating.csv')"
   ]
  },
  {
   "cell_type": "markdown",
   "metadata": {},
   "source": [
    "# Step 2: Download movie poster data <br>\n",
    "\n",
    "#### Data resource link: https://developers.themoviedb.org/3/getting-started/images\n",
    "##### Egs\n",
    "- https://image.tmdb.org/t/p/original/wwemzKWzjKYJFfCeiB57q3r4Bcm.svg\n",
    "- https://image.tmdb.org/t/p/original/wwemzKWzjKYJFfCeiB57q3r4Bcm.png\n",
    "- https://image.tmdb.org/t/p/w500/wwemzKWzjKYJFfCeiB57q3r4Bcm.png"
   ]
  },
  {
   "cell_type": "markdown",
   "metadata": {},
   "source": [
    "## 2.1 TMDB Config"
   ]
  },
  {
   "cell_type": "code",
   "execution_count": 10,
   "metadata": {},
   "outputs": [],
   "source": [
    "tmdbBase = 'http://image.tmdb.org/t/p/w185/' \n",
    "key_v3 = '10f40f0d5d794e4bacb266188128a896'"
   ]
  },
  {
   "cell_type": "markdown",
   "metadata": {},
   "source": [
    "## 2.1.1 TMDB API"
   ]
  },
  {
   "cell_type": "code",
   "execution_count": 11,
   "metadata": {},
   "outputs": [],
   "source": [
    "id = 505\n",
    "\n",
    "tmdb_connector = tmdb\n",
    "tmdb_connector.API_KEY = key_v3\n",
    "\n",
    "movieInfo = tmdb.Movies(id).info()\n",
    "posterLink = movieInfo['poster_path']\n",
    "fullLink = tmdbBase + posterLink"
   ]
  },
  {
   "cell_type": "code",
   "execution_count": 13,
   "metadata": {},
   "outputs": [
    {
     "name": "stdout",
     "output_type": "stream",
     "text": [
      "{'adult': False, 'backdrop_path': '/v7baGyne7CsLxnM2maMwIxKZdVF.jpg', 'belongs_to_collection': None, 'budget': 20000000, 'genres': [{'id': 80, 'name': 'Crime'}, {'id': 18, 'name': 'Drama'}], 'homepage': None, 'id': 505, 'imdb_id': 'tt0097626', 'original_language': 'en', 'original_title': 'Johnny Handsome', 'overview': 'A career criminal who has been deformed since birth is given a new face by a kindly doctor and paroled from prison. It appears that he has gone straight, but he is really planning his revenge on the man who killed his mentor and sent him to prison.', 'popularity': 6.024, 'poster_path': '/fJBea43DpS6BhL9ZTBDoTNMiOG6.jpg', 'production_companies': [{'id': 276, 'logo_path': None, 'name': 'Guber/Peters Company', 'origin_country': ''}, {'id': 277, 'logo_path': None, 'name': 'Roven Productions', 'origin_country': ''}, {'id': 275, 'logo_path': '/2MxNWlN5b3UXt1OfmznsWEQzFwq.png', 'name': 'Carolco Pictures', 'origin_country': 'US'}], 'production_countries': [{'iso_3166_1': 'US', 'name': 'United States of America'}], 'release_date': '1989-09-12', 'revenue': 7237794, 'runtime': 94, 'spoken_languages': [{'iso_639_1': 'en', 'name': 'English'}], 'status': 'Released', 'tagline': \"They changed his looks, his life and his future... but they couldn't change his past .\", 'title': 'Johnny Handsome', 'video': False, 'vote_average': 6.3, 'vote_count': 93}\n"
     ]
    }
   ],
   "source": [
    "print(movieInfo)"
   ]
  },
  {
   "cell_type": "code",
   "execution_count": null,
   "metadata": {},
   "outputs": [],
   "source": [
    "def get_poster_link(id,tmdb):\n",
    "    count = 1\n",
    "    while count < 3:\n",
    "        try:\n",
    "            tmdbBase = 'http://image.tmdb.org/t/p/w185/' \n",
    "            movieInfo = tmdb.Movies(id).info()\n",
    "            posterLink = movieInfo['poster_path']\n",
    "            fullLink = tmdbBase + posterLink\n",
    "            return fullLink\n",
    "        except:\n",
    "            count += 1\n",
    "    return None"
   ]
  },
  {
   "cell_type": "code",
   "execution_count": 14,
   "metadata": {},
   "outputs": [
    {
     "data": {
      "text/plain": [
       "'http://image.tmdb.org/t/p/w185//fJBea43DpS6BhL9ZTBDoTNMiOG6.jpg'"
      ]
     },
     "execution_count": 14,
     "metadata": {},
     "output_type": "execute_result"
    }
   ],
   "source": [
    "fullLink"
   ]
  },
  {
   "cell_type": "code",
   "execution_count": 15,
   "metadata": {},
   "outputs": [
    {
     "data": {
      "text/plain": [
       "'http://image.tmdb.org/t/p/w185//fJBea43DpS6BhL9ZTBDoTNMiOG6.jpg'"
      ]
     },
     "execution_count": 15,
     "metadata": {},
     "output_type": "execute_result"
    }
   ],
   "source": [
    "get_poster_link(id=505,tmdb=tmdb)"
   ]
  },
  {
   "cell_type": "code",
   "execution_count": 16,
   "metadata": {},
   "outputs": [
    {
     "data": {
      "text/html": [
       "<img style='width: 100px; margin: 0px; float: left; border: 1px solid black;' src='http://image.tmdb.org/t/p/w185//fJBea43DpS6BhL9ZTBDoTNMiOG6.jpg' />"
      ],
      "text/plain": [
       "<IPython.core.display.HTML object>"
      ]
     },
     "metadata": {},
     "output_type": "display_data"
    }
   ],
   "source": [
    "images = f\"<img style='width: 100px; margin: 0px; float: left; border: 1px solid black;' src='{fullLink}' />\" \n",
    "\n",
    "display(HTML(images))"
   ]
  },
  {
   "cell_type": "markdown",
   "metadata": {},
   "source": [
    "## 2.2 Download poster data"
   ]
  },
  {
   "cell_type": "markdown",
   "metadata": {},
   "source": [
    "### 2.2.1 Create API"
   ]
  },
  {
   "cell_type": "code",
   "execution_count": 17,
   "metadata": {},
   "outputs": [
    {
     "data": {
      "text/plain": [
       "('data/poster/505.jpg', <http.client.HTTPMessage at 0x113790630>)"
      ]
     },
     "execution_count": 17,
     "metadata": {},
     "output_type": "execute_result"
    }
   ],
   "source": [
    "urllib.request.urlretrieve(fullLink, \"data/poster/{}.jpg\".format(id))"
   ]
  },
  {
   "cell_type": "code",
   "execution_count": 18,
   "metadata": {},
   "outputs": [],
   "source": [
    "def scrape_poster(id,tmdb,target_folder=\"data/poster/\"):\n",
    "    posterLink = get_poster_link(id,tmdb)\n",
    "    if posterLink:\n",
    "        urllib.request.urlretrieve(fullLink, f\"{target_folder}{id}.jpg\")\n",
    "        print(f'Poster {id} successfully downloaded')\n",
    "    else:\n",
    "        print(f\"Unable to scrape data for poster :{id}\")"
   ]
  },
  {
   "cell_type": "code",
   "execution_count": 19,
   "metadata": {},
   "outputs": [
    {
     "name": "stdout",
     "output_type": "stream",
     "text": [
      "Poster 505 successfully downloaded\n"
     ]
    }
   ],
   "source": [
    "scrape_poster(505,tmdb)"
   ]
  },
  {
   "cell_type": "markdown",
   "metadata": {},
   "source": [
    "### 2.2.2 Download all posters in df"
   ]
  },
  {
   "cell_type": "code",
   "execution_count": 20,
   "metadata": {},
   "outputs": [
    {
     "name": "stdout",
     "output_type": "stream",
     "text": [
      "9715\n"
     ]
    }
   ],
   "source": [
    "TMDBIds = df_merged.tmdbId.unique()\n",
    "print(len(TMDBIds))"
   ]
  },
  {
   "cell_type": "code",
   "execution_count": 21,
   "metadata": {},
   "outputs": [],
   "source": [
    "\"\"\"Loop version\"\"\"\n",
    "links_loop = []\n",
    "for Id in TMDBIds:\n",
    "    tmp = scrape_poster(id=Id,tmdb=tmdb)\n",
    "    if tmp:    \n",
    "        links_loop.append(tmp)"
   ]
  },
  {
   "cell_type": "code",
   "execution_count": 22,
   "metadata": {},
   "outputs": [
    {
     "data": {
      "text/plain": [
       "'Map version'"
      ]
     },
     "execution_count": 22,
     "metadata": {},
     "output_type": "execute_result"
    }
   ],
   "source": [
    "\"\"\"Map version\"\"\"\n",
    "links_map = list(map(lambda x:scrape_poster(id=x,tmdb=tmdb),TMDBIds))"
   ]
  },
  {
   "cell_type": "code",
   "execution_count": 23,
   "metadata": {},
   "outputs": [
    {
     "data": {
      "text/plain": [
       "'Multiprocess version'"
      ]
     },
     "execution_count": 23,
     "metadata": {},
     "output_type": "execute_result"
    }
   ],
   "source": [
    "\"\"\"Multiprocess version\"\"\"\n",
    "from concurrent.futures import ProcessPoolExecutor, ThreadPoolExecutor\n",
    "workers = 6\n",
    "with ProcessPoolExecutor(max_workers=workers) as executor:\n",
    "    links_multiprocess = executor.map(scrape_poster, TMDBIds,[tmbd]*len(TMDBIds))        \t\t"
   ]
  },
  {
   "cell_type": "code",
   "execution_count": 28,
   "metadata": {},
   "outputs": [
    {
     "name": "stdout",
     "output_type": "stream",
     "text": [
      "Total number of posters: 6209\n"
     ]
    },
    {
     "data": {
      "text/plain": [
       "['63.jpg', '823.jpg', '2666.jpg', '10447.jpg', '2100.jpg']"
      ]
     },
     "execution_count": 28,
     "metadata": {},
     "output_type": "execute_result"
    }
   ],
   "source": [
    "\"\"\"Check number of posters downloaded\"\"\"\n",
    "poster_folder = os.listdir('data/poster/')\n",
    "print(f\"Total number of posters: {len(np.unique(poster_folder))}\")\n",
    "poster_folder[:5]"
   ]
  },
  {
   "cell_type": "markdown",
   "metadata": {},
   "source": [
    "# Step 3: Modulize\n"
   ]
  },
  {
   "cell_type": "code",
   "execution_count": null,
   "metadata": {},
   "outputs": [],
   "source": [
    "class scraper:\n",
    "    def __init__(self,ratingLink=None):\n",
    "        tmdbBase = 'http://image.tmdb.org/t/p/w185/' \n",
    "        key_v3 = '10f40f0d5d794e4bacb266188128a896'\n",
    "        \n",
    "        tmdb_connector = tmdb\n",
    "        tmdb_connector.API_KEY = key_v3\n",
    "        self.tmdb = tmdb\n",
    "        \n",
    "        ratingLink = \"http://files.grouplens.org/datasets/movielens/ml-latest-small.zip\" if not ratingLink else ratingLink\n",
    "        if \"data\" not in os.listdir():\n",
    "            os.mkdir(\"data\")\n",
    "            os.mkdir(\"data/posters\")\n",
    "            print(\"Create new folder to save data\")\n",
    "        \n",
    "    def download_rating(self):\n",
    "        if \"ml-latest-small.zip\" not in os.listdir(\"data\"):\n",
    "            urllib.request.urlretrieve(self.ratingLink,\"data/ml-latest-small.zip\")\n",
    "            os.system(\"unzip -a -n data/ml-latest-small.zip -d data/\")\n",
    "    \n",
    "    def proces_rating(self):\n",
    "        rating_df = pd.read_csv('data/ml-latest-small/ratings.csv')\n",
    "        linkes_df = pd.read_csv('data/ml-latest-small/links.csv')\n",
    "        df_merged = pd.merge(rating_df,linkes_df,on=['movieId'])\n",
    "        df_merged.dropna(how=\"any\",inplace=True)\n",
    "        df_merged[['tmdbId']] = df_merged[['tmdbId']].astype(int)\n",
    "        self.rating = df_merged\n",
    "        return df_merged\n",
    "    \n",
    "    def download_posters(self,method=\"map\",target_folder=\"data/poster/\"):\n",
    "        TMDBIds = self.rating.tmdbId.unique()\n",
    "        \n",
    "        if method == \"map\":\n",
    "            list(map(lambda x:scrape_poster(id=x,target_folder=target_folder),TMDBIds))\n",
    "        elif method == \"multiprocess\":\n",
    "            workers = 6\n",
    "            with ProcessPoolExecutor(max_workers=workers) as executor:\n",
    "                links_multiprocess = executor.map(scrape_poster, TMDBIds)     \n",
    "        elif method == 'loop':   \n",
    "            for Id in TMDBIds:\n",
    "                scrape_poster(id=Id)\n",
    "        else:\n",
    "            print(\"Must select a method\")\n",
    "            \n",
    "    def get_poster_link(self,id):\n",
    "        count = 1\n",
    "        while count < 3:\n",
    "            try:\n",
    "                tmdbBase = 'http://image.tmdb.org/t/p/w185/' \n",
    "                movieInfo = self.tmdb.Movies(id).info()\n",
    "                posterLink = movieInfo['poster_path']\n",
    "                fullLink = tmdbBase + posterLink\n",
    "                return fullLink\n",
    "            except:\n",
    "                count += 1\n",
    "        return None\n",
    "    def scrape_poster(self,id,target_folder=\"data/poster/\"):\n",
    "        posterLink = self.get_poster_link(id)\n",
    "        if posterLink:\n",
    "            urllib.request.urlretrieve(fullLink, f\"{target_folder}{id}.jpg\")\n",
    "            print(f'Poster {id} successfully downloaded')\n",
    "        else:\n",
    "            print(f\"Unable to scrape data for poster :{id}\")"
   ]
  }
 ],
 "metadata": {
  "kernelspec": {
   "display_name": "Python 3",
   "language": "python",
   "name": "python3"
  },
  "language_info": {
   "codemirror_mode": {
    "name": "ipython",
    "version": 3
   },
   "file_extension": ".py",
   "mimetype": "text/x-python",
   "name": "python",
   "nbconvert_exporter": "python",
   "pygments_lexer": "ipython3",
   "version": "3.6.5"
  }
 },
 "nbformat": 4,
 "nbformat_minor": 2
}
