{
 "cells": [
  {
   "cell_type": "code",
   "execution_count": 28,
   "metadata": {},
   "outputs": [],
   "source": [
    "from lib.extractor import svd_extractor\n",
    "from scipy.sparse.linalg import svds\n",
    "from scipy.sparse import csc_matrix\n",
    "import pandas as pd\n",
    "import numpy as np\n",
    "import tensorflow as tf\n",
    "from sklearn.metrics.pairwise import cosine_similarity"
   ]
  },
  {
   "cell_type": "markdown",
   "metadata": {},
   "source": [
    "# Step 1: Construct rating matrix"
   ]
  },
  {
   "cell_type": "code",
   "execution_count": 2,
   "metadata": {},
   "outputs": [],
   "source": [
    "df = pd.read_csv(\"data/rating.csv\")[['userId','tmdbId','rating']]"
   ]
  },
  {
   "cell_type": "code",
   "execution_count": 3,
   "metadata": {},
   "outputs": [],
   "source": [
    "myExtractor = svd_extractor()\n",
    "rating_matrix = myExtractor.build_rating_matrix(df)"
   ]
  },
  {
   "cell_type": "code",
   "execution_count": 8,
   "metadata": {},
   "outputs": [],
   "source": [
    "s,u,v = myExtractor.svd_scipy(rating_matrix=rating_matrix,num_features=20)"
   ]
  },
  {
   "cell_type": "code",
   "execution_count": 9,
   "metadata": {},
   "outputs": [
    {
     "name": "stdout",
     "output_type": "stream",
     "text": [
      "Shape of u: (20,), shape of s: (610, 20), shape of v: (9715, 20) \n"
     ]
    }
   ],
   "source": [
    "print(f\"Shape of u: {u.shape}, shape of s: {s.shape}, shape of v: {v.shape} \")"
   ]
  },
  {
   "cell_type": "markdown",
   "metadata": {},
   "source": [
    "# Step 2: Construct Cosine similarity matrix"
   ]
  },
  {
   "cell_type": "markdown",
   "metadata": {},
   "source": [
    "## 2.1 Cosine similarity <br>\n",
    "#### User as example"
   ]
  },
  {
   "cell_type": "code",
   "execution_count": 24,
   "metadata": {},
   "outputs": [
    {
     "name": "stdout",
     "output_type": "stream",
     "text": [
      "Cosine distance: 1.0987159487002258\n"
     ]
    }
   ],
   "source": [
    "\"\"\"Cosine distance\"\"\"\n",
    "cosine_dis = spatial.distance.cosine(s[0,:],s[1,:])\n",
    "print(f\"Cosine distance: {cosine_dis}\")"
   ]
  },
  {
   "cell_type": "code",
   "execution_count": 27,
   "metadata": {},
   "outputs": [
    {
     "name": "stdout",
     "output_type": "stream",
     "text": [
      "Cosine similarity: -0.09871594870022582\n"
     ]
    }
   ],
   "source": [
    "\"\"\"Cosine similarity\"\"\"\n",
    "cosine_similarity = 1 - cosine_dis\n",
    "print(f\"Cosine similarity: {cosine_similarity}\")"
   ]
  },
  {
   "cell_type": "code",
   "execution_count": 32,
   "metadata": {},
   "outputs": [
    {
     "name": "stdout",
     "output_type": "stream",
     "text": [
      "[[ 1.         -0.09871595]\n",
      " [-0.09871595  1.        ]]\n"
     ]
    }
   ],
   "source": [
    "cosine_matrix = cosine_similarity([s[0,:],s[1,:]])\n",
    "print(cosine_matrix)"
   ]
  },
  {
   "cell_type": "markdown",
   "metadata": {},
   "source": [
    "## 2.2 Cosine similarity matrix"
   ]
  },
  {
   "cell_type": "code",
   "execution_count": 37,
   "metadata": {},
   "outputs": [],
   "source": [
    "\"\"\"User similarity matrix\"\"\"\n",
    "user_similarity_matrix = cosine_similarity(s)"
   ]
  },
  {
   "cell_type": "code",
   "execution_count": 36,
   "metadata": {},
   "outputs": [
    {
     "data": {
      "text/plain": [
       "(610, 610)"
      ]
     },
     "execution_count": 36,
     "metadata": {},
     "output_type": "execute_result"
    }
   ],
   "source": [
    "user_similarity_matrix.shape"
   ]
  },
  {
   "cell_type": "markdown",
   "metadata": {},
   "source": [
    "## 2.3 Most similar item based on similarity matrix"
   ]
  },
  {
   "cell_type": "code",
   "execution_count": 45,
   "metadata": {},
   "outputs": [
    {
     "data": {
      "text/plain": [
       "array([  0,  45, 252,  56])"
      ]
     },
     "execution_count": 45,
     "metadata": {},
     "output_type": "execute_result"
    }
   ],
   "source": [
    "\"\"\"user example\"\"\"\n",
    "user_similarity_matrix = cosine_similarity(s)\n",
    "\n",
    "user_0 = user_similarity_matrix[0,:]\n",
    "\n",
    "user_0.argsort()[::-1][:4]"
   ]
  },
  {
   "cell_type": "code",
   "execution_count": 46,
   "metadata": {},
   "outputs": [
    {
     "data": {
      "text/plain": [
       "array([  0, 321, 826,  60])"
      ]
     },
     "execution_count": 46,
     "metadata": {},
     "output_type": "execute_result"
    }
   ],
   "source": [
    "\"\"\"Item example\"\"\"\n",
    "item_similarity_matrix = cosine_similarity(v)\n",
    "\n",
    "item_0 = item_similarity_matrix[0,:]\n",
    "\n",
    "item_0.argsort()[::-1][:4]"
   ]
  },
  {
   "cell_type": "markdown",
   "metadata": {},
   "source": [
    "## 2.4.1 Cosine similarity formula with numpy"
   ]
  },
  {
   "cell_type": "code",
   "execution_count": 83,
   "metadata": {},
   "outputs": [],
   "source": [
    "m = s.transpose()"
   ]
  },
  {
   "cell_type": "code",
   "execution_count": 84,
   "metadata": {},
   "outputs": [],
   "source": [
    "d = m.T @ m\n",
    "\n",
    "norm = (m * m).sum(0, keepdims=True) ** .5\n",
    "\n",
    "similarity_matrix_numpy = d / norm / norm.T"
   ]
  },
  {
   "cell_type": "code",
   "execution_count": 87,
   "metadata": {},
   "outputs": [
    {
     "data": {
      "text/plain": [
       "(610, 610)"
      ]
     },
     "execution_count": 87,
     "metadata": {},
     "output_type": "execute_result"
    }
   ],
   "source": [
    "similarity_matrix_numpy.shape"
   ]
  },
  {
   "cell_type": "code",
   "execution_count": 88,
   "metadata": {},
   "outputs": [
    {
     "data": {
      "text/plain": [
       "array([[ 1.        , -0.09871595, -0.18608504, ..., -0.39393495,\n",
       "        -0.19938605, -0.09287304],\n",
       "       [-0.09871595,  1.        , -0.02530091, ...,  0.0610331 ,\n",
       "        -0.12946863, -0.10349019],\n",
       "       [-0.18608504, -0.02530091,  1.        , ...,  0.39536761,\n",
       "         0.11254893, -0.27953488],\n",
       "       ...,\n",
       "       [-0.39393495,  0.0610331 ,  0.39536761, ...,  1.        ,\n",
       "         0.00669988,  0.16781229],\n",
       "       [-0.19938605, -0.12946863,  0.11254893, ...,  0.00669988,\n",
       "         1.        ,  0.57688158],\n",
       "       [-0.09287304, -0.10349019, -0.27953488, ...,  0.16781229,\n",
       "         0.57688158,  1.        ]])"
      ]
     },
     "execution_count": 88,
     "metadata": {},
     "output_type": "execute_result"
    }
   ],
   "source": [
    "similarity_matrix_numpy"
   ]
  },
  {
   "cell_type": "markdown",
   "metadata": {},
   "source": [
    "## 2.4.2 Cosine similarity formula with tensorflow"
   ]
  },
  {
   "cell_type": "code",
   "execution_count": 89,
   "metadata": {},
   "outputs": [],
   "source": [
    "features = s"
   ]
  },
  {
   "cell_type": "code",
   "execution_count": 90,
   "metadata": {},
   "outputs": [],
   "source": [
    "dim = features.shape\n",
    "\n",
    "constant = tf.constant(1e-9,dtype=tf.float32)\n",
    "\n",
    "df = tf.placeholder(shape=[dim[0],dim[1]],dtype=tf.float32)\n",
    "\n",
    "similar_user = tf.matmul(df,tf.transpose(df)) + constant\n",
    "\n",
    "norm_user = tf.reshape(tf.sqrt(tf.diag_part(similar_user)),[-1,1])\n",
    "\n",
    "norm_user_matrix = tf.matmul(norm_user,tf.transpose(norm_user))\n",
    "\n",
    "similar_user = similar_user/norm_user_matrix\n",
    "\n",
    "with tf.Session() as sess:\n",
    "    similarity_matrix_tf = sess.run(similar_user,feed_dict={df:features})"
   ]
  },
  {
   "cell_type": "code",
   "execution_count": 92,
   "metadata": {},
   "outputs": [
    {
     "data": {
      "text/plain": [
       "(610, 610)"
      ]
     },
     "execution_count": 92,
     "metadata": {},
     "output_type": "execute_result"
    }
   ],
   "source": [
    "cosine_matrix(similarity_matrix_tf).shape"
   ]
  },
  {
   "cell_type": "markdown",
   "metadata": {},
   "source": [
    "# Step 3: Modulize"
   ]
  },
  {
   "cell_type": "code",
   "execution_count": 94,
   "metadata": {},
   "outputs": [],
   "source": [
    "class cosine_recommender:\n",
    "    def __init__(self):\n",
    "        pass\n",
    "    def construct_cosine_matrix(self,features):\n",
    "        similarity_matrix = cosine_similarity(features)\n",
    "        return similarity_matrix\n",
    "    \n",
    "    def recommend(self,rating_matrix,ID,top_n=5):\n",
    "        n_most_similar = rating_matrix[ID,:].argsort()[::-1][1:top_n+1]\n",
    "        return n_most_similar\n",
    "    \n",
    "    def cosine_matrix_numpy(self,features):\n",
    "        features = np.array(features)\n",
    "        m = features.transpose()\n",
    "        d = m.T @ m\n",
    "        norm = (m * m).sum(0, keepdims=True) ** .5\n",
    "        similarity_matrix_numpy = d / norm / norm.T\n",
    "        return similarity_matrix_numpy\n",
    "    \n",
    "    def cosine_matrix_tf(self,features):\n",
    "        '''\n",
    "        Row based similirty\n",
    "\n",
    "        default: user is in row, item in column\n",
    "        ''' \n",
    "        features = np.array(features)\n",
    "\n",
    "        dim = features.shape\n",
    "\n",
    "        constant = tf.constant(1e-9,dtype=tf.float32)\n",
    "\n",
    "        df = tf.placeholder(shape=[dim[0],dim[1]],dtype=tf.float32)\n",
    "\n",
    "        similar_user = tf.matmul(df,tf.transpose(df)) + constant\n",
    "\n",
    "        norm_user = tf.reshape(tf.sqrt(tf.diag_part(similar_user)),[-1,1])\n",
    "\n",
    "        norm_user_matrix = tf.matmul(norm_user,tf.transpose(norm_user))\n",
    "\n",
    "        similar_user = similar_user/norm_user_matrix\n",
    "\n",
    "\n",
    "        with tf.Session() as sess:\n",
    "            similarity_matrix_tf = sess.run(similar_user,feed_dict={df:features})\n",
    "\n",
    "        return similarity_matrix_tf"
   ]
  },
  {
   "cell_type": "code",
   "execution_count": 95,
   "metadata": {},
   "outputs": [],
   "source": [
    "myRecommender = cosine_recommender()"
   ]
  },
  {
   "cell_type": "code",
   "execution_count": 96,
   "metadata": {},
   "outputs": [],
   "source": [
    "similarityMatrix = myRecommender.construct_cosine_matrix(s)"
   ]
  },
  {
   "cell_type": "code",
   "execution_count": 97,
   "metadata": {},
   "outputs": [
    {
     "data": {
      "text/plain": [
       "array([239, 355, 250, 178,  26])"
      ]
     },
     "execution_count": 97,
     "metadata": {},
     "output_type": "execute_result"
    }
   ],
   "source": [
    "myRecommender.recommend(similarityMatrix,5)"
   ]
  },
  {
   "cell_type": "code",
   "execution_count": null,
   "metadata": {},
   "outputs": [],
   "source": []
  }
 ],
 "metadata": {
  "kernelspec": {
   "display_name": "Python 3",
   "language": "python",
   "name": "python3"
  },
  "language_info": {
   "codemirror_mode": {
    "name": "ipython",
    "version": 3
   },
   "file_extension": ".py",
   "mimetype": "text/x-python",
   "name": "python",
   "nbconvert_exporter": "python",
   "pygments_lexer": "ipython3",
   "version": "3.6.5"
  }
 },
 "nbformat": 4,
 "nbformat_minor": 2
}
