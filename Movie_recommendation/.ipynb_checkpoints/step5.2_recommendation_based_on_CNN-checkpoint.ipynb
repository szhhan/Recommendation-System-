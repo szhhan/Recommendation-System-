{
 "cells": [
  {
   "cell_type": "code",
   "execution_count": 1,
   "metadata": {},
   "outputs": [
    {
     "name": "stderr",
     "output_type": "stream",
     "text": [
      "/Users/zili/anaconda3/lib/python3.6/site-packages/h5py/__init__.py:36: FutureWarning: Conversion of the second argument of issubdtype from `float` to `np.floating` is deprecated. In future, it will be treated as `np.float64 == np.dtype(float).type`.\n",
      "  from ._conv import register_converters as _register_converters\n"
     ]
    }
   ],
   "source": [
    "import tensorflow as tf\n",
    "import urllib\n",
    "from PIL import Image\n",
    "import numpy as np\n",
    "import IPython, os,pickle\n",
    "from IPython.display import display, HTML, Image\n",
    "\n",
    "import matplotlib.pyplot as plt\n",
    "from lib.utility import scraper\n",
    "from lib.extractor import Img_extractor\n",
    "from lib.recommend import cosine_recommender"
   ]
  },
  {
   "cell_type": "markdown",
   "metadata": {},
   "source": [
    "# Step1: Get poster links from local disk"
   ]
  },
  {
   "cell_type": "code",
   "execution_count": 2,
   "metadata": {},
   "outputs": [],
   "source": [
    "myExtractor = Img_extractor(model='VGG16')"
   ]
  },
  {
   "cell_type": "code",
   "execution_count": 3,
   "metadata": {},
   "outputs": [],
   "source": [
    "poster_links = [ 'data/poster/' + link  for link in os.listdir(path='data/poster/') if link.endswith(\"jpg\")]"
   ]
  },
  {
   "cell_type": "code",
   "execution_count": 4,
   "metadata": {},
   "outputs": [
    {
     "data": {
      "text/plain": [
       "['data/poster/63.jpg',\n",
       " 'data/poster/823.jpg',\n",
       " 'data/poster/2666.jpg',\n",
       " 'data/poster/10447.jpg',\n",
       " 'data/poster/2100.jpg']"
      ]
     },
     "execution_count": 4,
     "metadata": {},
     "output_type": "execute_result"
    }
   ],
   "source": [
    "poster_links[:5]"
   ]
  },
  {
   "cell_type": "code",
   "execution_count": 5,
   "metadata": {},
   "outputs": [
    {
     "data": {
      "text/plain": [
       "6209"
      ]
     },
     "execution_count": 5,
     "metadata": {},
     "output_type": "execute_result"
    }
   ],
   "source": [
    "len(poster_links)"
   ]
  },
  {
   "cell_type": "markdown",
   "metadata": {},
   "source": [
    "# Step 2: Extract features from posters"
   ]
  },
  {
   "cell_type": "code",
   "execution_count": 17,
   "metadata": {},
   "outputs": [],
   "source": [
    "poster_features = list(map(lambda x:myExtractor.get_features(x),poster_links))"
   ]
  },
  {
   "cell_type": "code",
   "execution_count": 30,
   "metadata": {},
   "outputs": [],
   "source": [
    "poster_features = list(map(lambda x:x.reshape(-1),poster_features))"
   ]
  },
  {
   "cell_type": "code",
   "execution_count": 31,
   "metadata": {},
   "outputs": [],
   "source": [
    "with open('data/poster/poster_features.pkl','wb') as file:\n",
    "    pickle.dump(poster_features,file)"
   ]
  },
  {
   "cell_type": "code",
   "execution_count": 6,
   "metadata": {},
   "outputs": [],
   "source": [
    "with open('data/poster/poster_features.pkl','rb') as file:\n",
    "    poster_features = pickle.load(file)"
   ]
  },
  {
   "cell_type": "markdown",
   "metadata": {},
   "source": [
    "# Step 3: Generate cosine similarity matrix"
   ]
  },
  {
   "cell_type": "code",
   "execution_count": 7,
   "metadata": {},
   "outputs": [],
   "source": [
    "myRecommender = cosine_recommender()"
   ]
  },
  {
   "cell_type": "code",
   "execution_count": 8,
   "metadata": {},
   "outputs": [
    {
     "data": {
      "text/plain": [
       "(6209, 6209)"
      ]
     },
     "execution_count": 8,
     "metadata": {},
     "output_type": "execute_result"
    }
   ],
   "source": [
    "similarityMatrix = myRecommender.cosine_matrix_numpy(features=np.array(poster_features))\n",
    "\n",
    "similarityMatrix.shape"
   ]
  },
  {
   "cell_type": "code",
   "execution_count": 9,
   "metadata": {},
   "outputs": [],
   "source": [
    "imgId= 505"
   ]
  },
  {
   "cell_type": "code",
   "execution_count": 10,
   "metadata": {},
   "outputs": [],
   "source": [
    "recommended = myRecommender.recommend(similarity_matrix=similarityMatrix,ID=imgId,top_n=5)"
   ]
  },
  {
   "cell_type": "code",
   "execution_count": 11,
   "metadata": {},
   "outputs": [],
   "source": [
    "def display_images(links_list):\n",
    "    images = ''\n",
    "    for i in links_list:\n",
    "        images += f\"<img style='width: 100px; margin: 0px; float: left; border: 1px solid black;' src='{i}' />\" \n",
    "\n",
    "    display(HTML(images)) "
   ]
  },
  {
   "cell_type": "code",
   "execution_count": 15,
   "metadata": {},
   "outputs": [
    {
     "data": {
      "text/plain": [
       "['data/poster/26531.jpg',\n",
       " 'data/poster/22010.jpg',\n",
       " 'data/poster/22102.jpg',\n",
       " 'data/poster/15359.jpg',\n",
       " 'data/poster/37433.jpg',\n",
       " 'data/poster/2293.jpg']"
      ]
     },
     "execution_count": 15,
     "metadata": {},
     "output_type": "execute_result"
    }
   ],
   "source": [
    "recommended_links = [ poster_links[i] for i in recommended]\n",
    "\n",
    "recommended_links"
   ]
  },
  {
   "cell_type": "code",
   "execution_count": 16,
   "metadata": {},
   "outputs": [
    {
     "data": {
      "text/html": [
       "<img style='width: 100px; margin: 0px; float: left; border: 1px solid black;' src='data/poster/26531.jpg' /><img style='width: 100px; margin: 0px; float: left; border: 1px solid black;' src='data/poster/22010.jpg' /><img style='width: 100px; margin: 0px; float: left; border: 1px solid black;' src='data/poster/22102.jpg' /><img style='width: 100px; margin: 0px; float: left; border: 1px solid black;' src='data/poster/15359.jpg' /><img style='width: 100px; margin: 0px; float: left; border: 1px solid black;' src='data/poster/37433.jpg' /><img style='width: 100px; margin: 0px; float: left; border: 1px solid black;' src='data/poster/2293.jpg' />"
      ],
      "text/plain": [
       "<IPython.core.display.HTML object>"
      ]
     },
     "metadata": {},
     "output_type": "display_data"
    }
   ],
   "source": [
    "display_images(recommended_links)"
   ]
  },
  {
   "cell_type": "markdown",
   "metadata": {},
   "source": [
    "# Step 4: Modulize"
   ]
  },
  {
   "cell_type": "code",
   "execution_count": 17,
   "metadata": {},
   "outputs": [],
   "source": [
    "class cnn_recommender(cosine_recommender):\n",
    "    def __init__(self):\n",
    "        super().__init__()\n",
    "        \n",
    "    def display_images(self,indices,poster_links):\n",
    "        links_list = [poster_links[index] for index in indices]\n",
    "        \n",
    "        images = ''\n",
    "        for i in links_list:\n",
    "            images += f\"<img style='width: 100px; margin: 0px; float: left; border: 1px solid black;' src='{i}' />\" \n",
    "        display(HTML(images)) \n",
    "    "
   ]
  },
  {
   "cell_type": "code",
   "execution_count": 18,
   "metadata": {},
   "outputs": [],
   "source": [
    "my_cnn = cnn_recommender()"
   ]
  },
  {
   "cell_type": "code",
   "execution_count": 19,
   "metadata": {},
   "outputs": [],
   "source": [
    "similarityMatrix = my_cnn.construct_cosine_matrix(features=poster_features)"
   ]
  },
  {
   "cell_type": "code",
   "execution_count": 26,
   "metadata": {},
   "outputs": [
    {
     "data": {
      "text/html": [
       "<img style='width: 100px; margin: 0px; float: left; border: 1px solid black;' src='data/poster/22021.jpg' /><img style='width: 100px; margin: 0px; float: left; border: 1px solid black;' src='data/poster/11816.jpg' /><img style='width: 100px; margin: 0px; float: left; border: 1px solid black;' src='data/poster/31056.jpg' /><img style='width: 100px; margin: 0px; float: left; border: 1px solid black;' src='data/poster/57158.jpg' /><img style='width: 100px; margin: 0px; float: left; border: 1px solid black;' src='data/poster/14976.jpg' /><img style='width: 100px; margin: 0px; float: left; border: 1px solid black;' src='data/poster/13701.jpg' />"
      ],
      "text/plain": [
       "<IPython.core.display.HTML object>"
      ]
     },
     "metadata": {},
     "output_type": "display_data"
    }
   ],
   "source": [
    "recommendIndices = my_cnn.recommend(ID=1000,similarity_matrix=similarityMatrix,top_n=5)\n",
    "\n",
    "my_cnn.display_images(recommendIndices,poster_links)"
   ]
  },
  {
   "cell_type": "code",
   "execution_count": 27,
   "metadata": {},
   "outputs": [
    {
     "data": {
      "text/html": [
       "<img style='width: 100px; margin: 0px; float: left; border: 1px solid black;' src='data/poster/33908.jpg' /><img style='width: 100px; margin: 0px; float: left; border: 1px solid black;' src='data/poster/9826.jpg' /><img style='width: 100px; margin: 0px; float: left; border: 1px solid black;' src='data/poster/364.jpg' /><img style='width: 100px; margin: 0px; float: left; border: 1px solid black;' src='data/poster/18533.jpg' /><img style='width: 100px; margin: 0px; float: left; border: 1px solid black;' src='data/poster/10577.jpg' /><img style='width: 100px; margin: 0px; float: left; border: 1px solid black;' src='data/poster/303857.jpg' />"
      ],
      "text/plain": [
       "<IPython.core.display.HTML object>"
      ]
     },
     "metadata": {},
     "output_type": "display_data"
    }
   ],
   "source": [
    "recommendIndices = my_cnn.recommend(ID=1000,similarity_matrix=similarityMatrix,top_n=5)\n",
    "\n",
    "my_cnn.display_images(recommendIndices,poster_links)"
   ]
  },
  {
   "cell_type": "code",
   "execution_count": 33,
   "metadata": {},
   "outputs": [
    {
     "data": {
      "text/html": [
       "<img style='width: 100px; margin: 0px; float: left; border: 1px solid black;' src='data/poster/3101.jpg' /><img style='width: 100px; margin: 0px; float: left; border: 1px solid black;' src='data/poster/3111.jpg' /><img style='width: 100px; margin: 0px; float: left; border: 1px solid black;' src='data/poster/17496.jpg' /><img style='width: 100px; margin: 0px; float: left; border: 1px solid black;' src='data/poster/47714.jpg' /><img style='width: 100px; margin: 0px; float: left; border: 1px solid black;' src='data/poster/1623.jpg' /><img style='width: 100px; margin: 0px; float: left; border: 1px solid black;' src='data/poster/252512.jpg' />"
      ],
      "text/plain": [
       "<IPython.core.display.HTML object>"
      ]
     },
     "metadata": {},
     "output_type": "display_data"
    }
   ],
   "source": [
    "recommendIndices = my_cnn.recommend(ID=77,similarity_matrix=similarityMatrix,top_n=5)\n",
    "\n",
    "my_cnn.display_images(recommendIndices,poster_links)"
   ]
  }
 ],
 "metadata": {
  "kernelspec": {
   "display_name": "Python 3",
   "language": "python",
   "name": "python3"
  },
  "language_info": {
   "codemirror_mode": {
    "name": "ipython",
    "version": 3
   },
   "file_extension": ".py",
   "mimetype": "text/x-python",
   "name": "python",
   "nbconvert_exporter": "python",
   "pygments_lexer": "ipython3",
   "version": "3.6.5"
  }
 },
 "nbformat": 4,
 "nbformat_minor": 2
}
